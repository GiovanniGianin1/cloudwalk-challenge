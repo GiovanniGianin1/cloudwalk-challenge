{
 "cells": [
  {
   "cell_type": "code",
   "execution_count": null,
   "id": "f6cf43ec",
   "metadata": {},
   "outputs": [],
   "source": [
    "import pandas as pd\n",
    "import matplotlib.pyplot as plt\n",
    "\n",
    "# Carrega os dados\n",
    "df = pd.read_csv('data/transactions.csv', parse_dates=['timestamp'])\n",
    "\n",
    "# Agrupa por minuto e status\n",
    "pivot = df.pivot_table(index='timestamp', columns='status', values='count', aggfunc='sum').fillna(0)\n",
    "\n",
    "# Plot\n",
    "plt.figure(figsize=(14,6))\n",
    "for status in pivot.columns:\n",
    "    plt.plot(pivot.index, pivot[status], label=status)\n",
    "\n",
    "plt.title('Transaction Volume per Minute')\n",
    "plt.xlabel('Timestamp')\n",
    "plt.ylabel('Count')\n",
    "plt.legend()\n",
    "plt.grid(True)\n",
    "plt.show()"
   ]
  }
 ],
 "metadata": {
  "language_info": {
   "name": "python"
  }
 },
 "nbformat": 4,
 "nbformat_minor": 5
}
